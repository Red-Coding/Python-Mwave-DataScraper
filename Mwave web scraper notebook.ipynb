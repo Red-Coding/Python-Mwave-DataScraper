{
 "cells": [
  {
   "cell_type": "code",
   "execution_count": 1,
   "id": "f048e28e",
   "metadata": {},
   "outputs": [],
   "source": [
    "# import libraries \n",
    "from bs4 import BeautifulSoup\n",
    "import pandas as pd\n",
    "import requests\n",
    "import time\n",
    "import datetime\n",
    "import smtplib"
   ]
  },
  {
   "cell_type": "code",
   "execution_count": 2,
   "id": "c811cfa2",
   "metadata": {
    "scrolled": false
   },
   "outputs": [
    {
     "name": "stdout",
     "output_type": "stream",
     "text": [
      "success\n",
      "200\n"
     ]
    }
   ],
   "source": [
    "# Please use your own user agent, it can be found at: \"http://httpbin.org/get\", if its still failing try to remove the S from \"HTTPS\"\n",
    "# Make sure you can connect to the server\n",
    "\n",
    "URL = \"https://www.mwave.com.au/monitors\"\n",
    "headers = {\"User-Agent\": \"Mozilla/5.0 (Windows NT 10.0; Win64; x64) AppleWebKit/537.36 (KHTML, like Gecko) Chrome/113.0.0.0 Safari/537.36\"}\n",
    "resp = requests.get(URL, headers=headers)\n",
    "if resp.status_code == 200:\n",
    " bs = BeautifulSoup(resp.content, \"html.parser\")\n",
    " bs_object =BeautifulSoup(bs.prettify(), \"html.parser\")\n",
    " print(\"success\")\n",
    "\n",
    "else:\n",
    "  print(\"failure\")\n",
    "\n",
    "print(resp.status_code)"
   ]
  },
  {
   "cell_type": "code",
   "execution_count": 3,
   "id": "bee07315",
   "metadata": {
    "scrolled": false
   },
   "outputs": [],
   "source": [
    "#finding all of the infomation that we will be extracting and formating it so its easier to call on later\n",
    "all_monitors = bs_object.find_all(\"div\", class_=\"name\")\n",
    "monitors_price = bs_object.find_all(\"div\",class_=\"current\", style=\"font-size:22px;width:100%;\")\n",
    "#print(all_monitors)\n",
    "#print(monitors_price)"
   ]
  },
  {
   "cell_type": "code",
   "execution_count": 4,
   "id": "671b67b9",
   "metadata": {},
   "outputs": [
    {
     "name": "stdout",
     "output_type": "stream",
     "text": [
      "https://www.mwave.com.au/product/qtee-super-slim-ultra-low-profile-tv-wall-mount-bracket-37-65-max-50kg-aa32059\n"
     ]
    }
   ],
   "source": [
    "#making sure you are pulling one URL correctly \n",
    "single_monitor = all_monitors[0]\n",
    "link = single_monitor.find(\"a\")\n",
    "print(f\"https://www.mwave.com.au{link['href']}\")"
   ]
  },
  {
   "cell_type": "code",
   "execution_count": 5,
   "id": "8c2bfb0e",
   "metadata": {
    "scrolled": true
   },
   "outputs": [
    {
     "name": "stdout",
     "output_type": "stream",
     "text": [
      "$49.00\n"
     ]
    }
   ],
   "source": [
    "#making sure you are pulling one price correctly\n",
    "single_monitor_price = monitors_price[0].text.strip()\n",
    "print(single_monitor_price)"
   ]
  },
  {
   "cell_type": "code",
   "execution_count": 6,
   "id": "b038e70a",
   "metadata": {},
   "outputs": [
    {
     "name": "stdout",
     "output_type": "stream",
     "text": [
      "09-05-2023\n"
     ]
    }
   ],
   "source": [
    "#importing and reformating how the date is displayed and also testing to make sure its displaying correctly\n",
    "time = datetime.date.today()\n",
    "today = time.strftime(\"%d-%m-%Y\")\n",
    "print (today)"
   ]
  },
  {
   "cell_type": "code",
   "execution_count": 7,
   "id": "f752010c",
   "metadata": {},
   "outputs": [],
   "source": [
    "pre_frame = {\n",
    "    \"title\": [],\n",
    "    \"url\": [],\n",
    "    \"price\": [],\n",
    "    \"date\": []\n",
    "}"
   ]
  },
  {
   "cell_type": "code",
   "execution_count": 8,
   "id": "4228186c",
   "metadata": {
    "scrolled": false
   },
   "outputs": [],
   "source": [
    "x=0 \n",
    "for monitor in all_monitors:\n",
    "    link = monitor.find(\"a\")['href'] \n",
    "    link = \"http://www.mwave.com.au\" + link\n",
    "    title = monitor.text.strip()\n",
    "    price = monitors_price[x].text.strip()\n",
    "    date = datetime.date.today()\n",
    "    x = x+1\n",
    "    pre_frame['title'].append(title)\n",
    "    pre_frame['url'].append(link)\n",
    "    pre_frame['price'].append(price)\n",
    "    pre_frame['date'].append(today)\n",
    "        "
   ]
  },
  {
   "cell_type": "code",
   "execution_count": 9,
   "id": "6be3e9f3",
   "metadata": {},
   "outputs": [
    {
     "data": {
      "text/html": [
       "<div>\n",
       "<style scoped>\n",
       "    .dataframe tbody tr th:only-of-type {\n",
       "        vertical-align: middle;\n",
       "    }\n",
       "\n",
       "    .dataframe tbody tr th {\n",
       "        vertical-align: top;\n",
       "    }\n",
       "\n",
       "    .dataframe thead th {\n",
       "        text-align: right;\n",
       "    }\n",
       "</style>\n",
       "<table border=\"1\" class=\"dataframe\">\n",
       "  <thead>\n",
       "    <tr style=\"text-align: right;\">\n",
       "      <th></th>\n",
       "      <th>title</th>\n",
       "      <th>url</th>\n",
       "      <th>price</th>\n",
       "      <th>date</th>\n",
       "    </tr>\n",
       "  </thead>\n",
       "  <tbody>\n",
       "    <tr>\n",
       "      <th>0</th>\n",
       "      <td>Q-Tee Super Slim Ultra Low Profile TV Wall Mou...</td>\n",
       "      <td>https://www.mwave.com.au/product/qtee-super-sl...</td>\n",
       "      <td>$49.00</td>\n",
       "      <td>09-05-2023</td>\n",
       "    </tr>\n",
       "    <tr>\n",
       "      <th>1</th>\n",
       "      <td>LG 24MK430H-B 24\" Full HD FreeSync 75Hz IPS LE...</td>\n",
       "      <td>https://www.mwave.com.au/product/lg-24mk430hb-...</td>\n",
       "      <td>$119.00</td>\n",
       "      <td>09-05-2023</td>\n",
       "    </tr>\n",
       "    <tr>\n",
       "      <th>2</th>\n",
       "      <td>Philips B-Line 242B9T 23.8\" Full HD Touch IPS ...</td>\n",
       "      <td>https://www.mwave.com.au/product/philips-bline...</td>\n",
       "      <td>$529.00</td>\n",
       "      <td>09-05-2023</td>\n",
       "    </tr>\n",
       "    <tr>\n",
       "      <th>3</th>\n",
       "      <td>EIZO DuraVision FDF2382WT 23\" IPS FHD Touchscr...</td>\n",
       "      <td>https://www.mwave.com.au/product/eizo-duravisi...</td>\n",
       "      <td>$1,999.95</td>\n",
       "      <td>09-05-2023</td>\n",
       "    </tr>\n",
       "    <tr>\n",
       "      <th>4</th>\n",
       "      <td>Brateck Articulating Dual Monitor Stand - 17\"-32\"</td>\n",
       "      <td>https://www.mwave.com.au/product/brateck-artic...</td>\n",
       "      <td>$109.00</td>\n",
       "      <td>09-05-2023</td>\n",
       "    </tr>\n",
       "    <tr>\n",
       "      <th>5</th>\n",
       "      <td>Brateck LDT12-C01 Single Articulating Steel Mo...</td>\n",
       "      <td>https://www.mwave.com.au/product/brateck-ldt12...</td>\n",
       "      <td>$39.00</td>\n",
       "      <td>09-05-2023</td>\n",
       "    </tr>\n",
       "    <tr>\n",
       "      <th>6</th>\n",
       "      <td>Brateck Single Heavy-Duty Gas Spring Monitor A...</td>\n",
       "      <td>https://www.mwave.com.au/product/brateck-singl...</td>\n",
       "      <td>$139.00</td>\n",
       "      <td>09-05-2023</td>\n",
       "    </tr>\n",
       "    <tr>\n",
       "      <th>7</th>\n",
       "      <td>HP E24T G4 23.8\" Full HD Anti-Glare IPS Touch ...</td>\n",
       "      <td>https://www.mwave.com.au/product/hp-e24t-g4-23...</td>\n",
       "      <td>$489.00</td>\n",
       "      <td>09-05-2023</td>\n",
       "    </tr>\n",
       "    <tr>\n",
       "      <th>8</th>\n",
       "      <td>Samsung T5300 32\" Full HD HDR Smart TV</td>\n",
       "      <td>https://www.mwave.com.au/product/samsung-t5300...</td>\n",
       "      <td>$529.00</td>\n",
       "      <td>09-05-2023</td>\n",
       "    </tr>\n",
       "    <tr>\n",
       "      <th>9</th>\n",
       "      <td>Samsung S7 32\" 4K UHD VA Monitor with Eye Care</td>\n",
       "      <td>https://www.mwave.com.au/product/samsung-s7-32...</td>\n",
       "      <td>$399.00</td>\n",
       "      <td>09-05-2023</td>\n",
       "    </tr>\n",
       "    <tr>\n",
       "      <th>10</th>\n",
       "      <td>Brateck Pole-Mounted Gas Spring 17\"-32\" Dual M...</td>\n",
       "      <td>https://www.mwave.com.au/product/brateck-polem...</td>\n",
       "      <td>$129.00</td>\n",
       "      <td>09-05-2023</td>\n",
       "    </tr>\n",
       "    <tr>\n",
       "      <th>11</th>\n",
       "      <td>Lenovo ThinkVision T24t-20 23.8\" Full HD USB-C...</td>\n",
       "      <td>https://www.mwave.com.au/product/lenovo-thinkv...</td>\n",
       "      <td>$549.00</td>\n",
       "      <td>09-05-2023</td>\n",
       "    </tr>\n",
       "    <tr>\n",
       "      <th>12</th>\n",
       "      <td>Philips 241V8LA 23.8\" 75Hz FHD Adaptive Sync V...</td>\n",
       "      <td>https://www.mwave.com.au/product/philips-241v8...</td>\n",
       "      <td>$129.00</td>\n",
       "      <td>09-05-2023</td>\n",
       "    </tr>\n",
       "    <tr>\n",
       "      <th>13</th>\n",
       "      <td>Dell U2723QE UltraSharp 27\" 4K 98% DCI-P3 IPS ...</td>\n",
       "      <td>https://www.mwave.com.au/product/dell-u2723qe-...</td>\n",
       "      <td>$749.00</td>\n",
       "      <td>09-05-2023</td>\n",
       "    </tr>\n",
       "    <tr>\n",
       "      <th>14</th>\n",
       "      <td>Samsung BU8000 65\" Crystal UHD 100Hz 4K Smart ...</td>\n",
       "      <td>https://www.mwave.com.au/product/samsung-bu800...</td>\n",
       "      <td>$1,495.00</td>\n",
       "      <td>09-05-2023</td>\n",
       "    </tr>\n",
       "    <tr>\n",
       "      <th>15</th>\n",
       "      <td>ASUS VT168HR 15.6\" WXGA Eye-Care Touch Monitor</td>\n",
       "      <td>https://www.mwave.com.au/product/asus-vt168hr-...</td>\n",
       "      <td>$339.00</td>\n",
       "      <td>09-05-2023</td>\n",
       "    </tr>\n",
       "    <tr>\n",
       "      <th>16</th>\n",
       "      <td>Samsung 65\" QN85B Neo QLED UHD 4K Smart TV (2022)</td>\n",
       "      <td>https://www.mwave.com.au/product/samsung-65-qn...</td>\n",
       "      <td>$3,199.00</td>\n",
       "      <td>09-05-2023</td>\n",
       "    </tr>\n",
       "    <tr>\n",
       "      <th>17</th>\n",
       "      <td>Samsung 75\" QN85B Neo QLED UHD 4K Smart TV (2022)</td>\n",
       "      <td>https://www.mwave.com.au/product/samsung-75-qn...</td>\n",
       "      <td>$4,499.00</td>\n",
       "      <td>09-05-2023</td>\n",
       "    </tr>\n",
       "    <tr>\n",
       "      <th>18</th>\n",
       "      <td>Samsung 85\" QN85B Neo QLED UHD 4K Smart TV (2022)</td>\n",
       "      <td>https://www.mwave.com.au/product/samsung-85-qn...</td>\n",
       "      <td>$5,999.00</td>\n",
       "      <td>09-05-2023</td>\n",
       "    </tr>\n",
       "    <tr>\n",
       "      <th>19</th>\n",
       "      <td>Acer V7 Series VA241YA 23.8\" 75Hz Full HD 1ms ...</td>\n",
       "      <td>https://www.mwave.com.au/product/acer-v7-serie...</td>\n",
       "      <td>$96.69</td>\n",
       "      <td>09-05-2023</td>\n",
       "    </tr>\n",
       "  </tbody>\n",
       "</table>\n",
       "</div>"
      ],
      "text/plain": [
       "                                                title  \\\n",
       "0   Q-Tee Super Slim Ultra Low Profile TV Wall Mou...   \n",
       "1   LG 24MK430H-B 24\" Full HD FreeSync 75Hz IPS LE...   \n",
       "2   Philips B-Line 242B9T 23.8\" Full HD Touch IPS ...   \n",
       "3   EIZO DuraVision FDF2382WT 23\" IPS FHD Touchscr...   \n",
       "4   Brateck Articulating Dual Monitor Stand - 17\"-32\"   \n",
       "5   Brateck LDT12-C01 Single Articulating Steel Mo...   \n",
       "6   Brateck Single Heavy-Duty Gas Spring Monitor A...   \n",
       "7   HP E24T G4 23.8\" Full HD Anti-Glare IPS Touch ...   \n",
       "8              Samsung T5300 32\" Full HD HDR Smart TV   \n",
       "9      Samsung S7 32\" 4K UHD VA Monitor with Eye Care   \n",
       "10  Brateck Pole-Mounted Gas Spring 17\"-32\" Dual M...   \n",
       "11  Lenovo ThinkVision T24t-20 23.8\" Full HD USB-C...   \n",
       "12  Philips 241V8LA 23.8\" 75Hz FHD Adaptive Sync V...   \n",
       "13  Dell U2723QE UltraSharp 27\" 4K 98% DCI-P3 IPS ...   \n",
       "14  Samsung BU8000 65\" Crystal UHD 100Hz 4K Smart ...   \n",
       "15     ASUS VT168HR 15.6\" WXGA Eye-Care Touch Monitor   \n",
       "16  Samsung 65\" QN85B Neo QLED UHD 4K Smart TV (2022)   \n",
       "17  Samsung 75\" QN85B Neo QLED UHD 4K Smart TV (2022)   \n",
       "18  Samsung 85\" QN85B Neo QLED UHD 4K Smart TV (2022)   \n",
       "19  Acer V7 Series VA241YA 23.8\" 75Hz Full HD 1ms ...   \n",
       "\n",
       "                                                  url      price        date  \n",
       "0   https://www.mwave.com.au/product/qtee-super-sl...     $49.00  09-05-2023  \n",
       "1   https://www.mwave.com.au/product/lg-24mk430hb-...    $119.00  09-05-2023  \n",
       "2   https://www.mwave.com.au/product/philips-bline...    $529.00  09-05-2023  \n",
       "3   https://www.mwave.com.au/product/eizo-duravisi...  $1,999.95  09-05-2023  \n",
       "4   https://www.mwave.com.au/product/brateck-artic...    $109.00  09-05-2023  \n",
       "5   https://www.mwave.com.au/product/brateck-ldt12...     $39.00  09-05-2023  \n",
       "6   https://www.mwave.com.au/product/brateck-singl...    $139.00  09-05-2023  \n",
       "7   https://www.mwave.com.au/product/hp-e24t-g4-23...    $489.00  09-05-2023  \n",
       "8   https://www.mwave.com.au/product/samsung-t5300...    $529.00  09-05-2023  \n",
       "9   https://www.mwave.com.au/product/samsung-s7-32...    $399.00  09-05-2023  \n",
       "10  https://www.mwave.com.au/product/brateck-polem...    $129.00  09-05-2023  \n",
       "11  https://www.mwave.com.au/product/lenovo-thinkv...    $549.00  09-05-2023  \n",
       "12  https://www.mwave.com.au/product/philips-241v8...    $129.00  09-05-2023  \n",
       "13  https://www.mwave.com.au/product/dell-u2723qe-...    $749.00  09-05-2023  \n",
       "14  https://www.mwave.com.au/product/samsung-bu800...  $1,495.00  09-05-2023  \n",
       "15  https://www.mwave.com.au/product/asus-vt168hr-...    $339.00  09-05-2023  \n",
       "16  https://www.mwave.com.au/product/samsung-65-qn...  $3,199.00  09-05-2023  \n",
       "17  https://www.mwave.com.au/product/samsung-75-qn...  $4,499.00  09-05-2023  \n",
       "18  https://www.mwave.com.au/product/samsung-85-qn...  $5,999.00  09-05-2023  \n",
       "19  https://www.mwave.com.au/product/acer-v7-serie...     $96.69  09-05-2023  "
      ]
     },
     "execution_count": 9,
     "metadata": {},
     "output_type": "execute_result"
    }
   ],
   "source": [
    "df = pd.DataFrame(pre_frame)\n",
    "df"
   ]
  },
  {
   "cell_type": "code",
   "execution_count": 10,
   "id": "ffb595e6",
   "metadata": {},
   "outputs": [],
   "source": [
    "df.to_csv(\"monitors.csv\", index=False)"
   ]
  },
  {
   "cell_type": "code",
   "execution_count": null,
   "id": "a529858d",
   "metadata": {},
   "outputs": [],
   "source": []
  }
 ],
 "metadata": {
  "kernelspec": {
   "display_name": "Python 3 (ipykernel)",
   "language": "python",
   "name": "python3"
  },
  "language_info": {
   "codemirror_mode": {
    "name": "ipython",
    "version": 3
   },
   "file_extension": ".py",
   "mimetype": "text/x-python",
   "name": "python",
   "nbconvert_exporter": "python",
   "pygments_lexer": "ipython3",
   "version": "3.10.9"
  }
 },
 "nbformat": 4,
 "nbformat_minor": 5
}
